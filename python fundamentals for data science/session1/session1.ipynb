{
 "cells": [
  {
   "cell_type": "code",
   "execution_count": 4,
   "metadata": {},
   "outputs": [
    {
     "name": "stdout",
     "output_type": "stream",
     "text": [
      "Minimum distance to the origin: 6.0\n"
     ]
    }
   ],
   "source": [
    "import math\n",
    "\n",
    "def min_distance_to_circle_origin(x, y, r):\n",
    "    # Calculate distance from the center of the circle to the origin\n",
    "    d = math.sqrt(x**2 + y**2)\n",
    "\n",
    "    # Find the minimum distance to the circumference\n",
    "    if d > r:\n",
    "        min_distance = d - r\n",
    "    else:\n",
    "        min_distance = 0\n",
    "\n",
    "    return min_distance\n",
    "\n",
    "# Example usage:\n",
    "x, y, r = 8, 6, 4  # Example values for center coordinates and radius\n",
    "print(\"Minimum distance to the origin:\", min_distance_to_circle_origin(x, y, r))"
   ]
  }
 ],
 "metadata": {
  "kernelspec": {
   "display_name": "base",
   "language": "python",
   "name": "python3"
  },
  "language_info": {
   "codemirror_mode": {
    "name": "ipython",
    "version": 3
   },
   "file_extension": ".py",
   "mimetype": "text/x-python",
   "name": "python",
   "nbconvert_exporter": "python",
   "pygments_lexer": "ipython3",
   "version": "3.12.3"
  }
 },
 "nbformat": 4,
 "nbformat_minor": 2
}
