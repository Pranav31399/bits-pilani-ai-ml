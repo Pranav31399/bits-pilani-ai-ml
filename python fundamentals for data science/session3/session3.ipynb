{
 "cells": [
  {
   "cell_type": "markdown",
   "metadata": {},
   "source": [
    "amit sir's email address : amitkp@wilp.bits-pilani.ac.in"
   ]
  },
  {
   "cell_type": "markdown",
   "metadata": {},
   "source": [
    "Nested loops"
   ]
  },
  {
   "cell_type": "code",
   "execution_count": 2,
   "metadata": {},
   "outputs": [
    {
     "name": "stdout",
     "output_type": "stream",
     "text": [
      "1 A\n",
      "1 B\n",
      "1 C\n",
      "2 A\n",
      "2 B\n",
      "2 C\n",
      "3 A\n",
      "3 B\n",
      "3 C\n"
     ]
    }
   ],
   "source": [
    "for i in [1,2,3]:\n",
    "    for j in \"ABC\":\n",
    "        print(i,j)"
   ]
  },
  {
   "cell_type": "markdown",
   "metadata": {},
   "source": [
    "numbers = [1,2,3,4,5],\n",
    "Write a program to calculate the square of each element and store it in a list"
   ]
  },
  {
   "cell_type": "code",
   "execution_count": 12,
   "metadata": {},
   "outputs": [
    {
     "name": "stdout",
     "output_type": "stream",
     "text": [
      "[1, 4, 9, 16, 25]\n"
     ]
    }
   ],
   "source": [
    "numbers=[1,2,3,4,5]\n",
    "result=[0]*len(numbers)\n",
    "for i in range(len(numbers)):\n",
    "    result[i]=numbers[i]*numbers[i]\n",
    "    \n",
    "print(result)\n",
    "\n",
    "# for i in numbers:\n",
    "#     print(i**2)"
   ]
  },
  {
   "cell_type": "markdown",
   "metadata": {},
   "source": [
    "Tuple, string, list, dict, set are data structure available in python inbuilt\n",
    "tuple and string are immutable data structure, we can change it after defining it."
   ]
  },
  {
   "cell_type": "code",
   "execution_count": null,
   "metadata": {},
   "outputs": [
    {
     "data": {
      "text/plain": [
       "['__add__',\n",
       " '__class__',\n",
       " '__class_getitem__',\n",
       " '__contains__',\n",
       " '__delattr__',\n",
       " '__delitem__',\n",
       " '__dir__',\n",
       " '__doc__',\n",
       " '__eq__',\n",
       " '__format__',\n",
       " '__ge__',\n",
       " '__getattribute__',\n",
       " '__getitem__',\n",
       " '__getstate__',\n",
       " '__gt__',\n",
       " '__hash__',\n",
       " '__iadd__',\n",
       " '__imul__',\n",
       " '__init__',\n",
       " '__init_subclass__',\n",
       " '__iter__',\n",
       " '__le__',\n",
       " '__len__',\n",
       " '__lt__',\n",
       " '__mul__',\n",
       " '__ne__',\n",
       " '__new__',\n",
       " '__reduce__',\n",
       " '__reduce_ex__',\n",
       " '__repr__',\n",
       " '__reversed__',\n",
       " '__rmul__',\n",
       " '__setattr__',\n",
       " '__setitem__',\n",
       " '__sizeof__',\n",
       " '__str__',\n",
       " '__subclasshook__',\n",
       " 'append',\n",
       " 'clear',\n",
       " 'copy',\n",
       " 'count',\n",
       " 'extend',\n",
       " 'index',\n",
       " 'insert',\n",
       " 'pop',\n",
       " 'remove',\n",
       " 'reverse',\n",
       " 'sort']"
      ]
     },
     "execution_count": 16,
     "metadata": {},
     "output_type": "execute_result"
    }
   ],
   "source": [
    "a=[1,2,3,4]\n",
    "type(a)\n",
    "# dir(a)"
   ]
  },
  {
   "cell_type": "code",
   "execution_count": 19,
   "metadata": {},
   "outputs": [
    {
     "name": "stdout",
     "output_type": "stream",
     "text": [
      "2565449343808\n",
      "2565449357504\n"
     ]
    }
   ],
   "source": [
    "a=(1,2,3)\n",
    "print(id(a))\n",
    "# as tuple is immutable so when we are converting it into list, new memory location will be \n",
    "# assigned\n",
    "a=list(a)\n",
    "print(id(a))"
   ]
  },
  {
   "cell_type": "code",
   "execution_count": null,
   "metadata": {},
   "outputs": [
    {
     "name": "stdout",
     "output_type": "stream",
     "text": [
      "2565449557568\n",
      "<class 'list'>\n",
      "2565449557568\n",
      "[1, 2, 3, 4, 5, 6]\n",
      "<class 'tuple'>\n"
     ]
    }
   ],
   "source": [
    "b=[1,2,3,4,5]\n",
    "print(id(b))\n",
    "print(type(b))\n",
    "b.append(6)\n",
    "print(id(b))\n",
    "print(b)\n",
    "# list provides lot of methods to use\n",
    "\n",
    "c=(1,2,3,4,5)\n",
    "print(type(c))"
   ]
  },
  {
   "cell_type": "code",
   "execution_count": null,
   "metadata": {},
   "outputs": [
    {
     "data": {
      "text/plain": [
       "7"
      ]
     },
     "execution_count": 27,
     "metadata": {},
     "output_type": "execute_result"
    }
   ],
   "source": [
    "a=(1,2,3,4,1,2,3)\n",
    "a.count(4) # this will give the no of occurance of 4\n",
    "a.index(4) # this will give the first index of occurance of 4\n",
    "len(a)\n",
    "#these were the only methods available in tuple"
   ]
  },
  {
   "cell_type": "code",
   "execution_count": 32,
   "metadata": {},
   "outputs": [
    {
     "name": "stdout",
     "output_type": "stream",
     "text": [
      "140735250818328\n",
      "2565420820176\n"
     ]
    }
   ],
   "source": [
    "c='abc'\n",
    "print(id(c))\n",
    "# new memory will be assigned\n",
    "c=c+\"d\"\n",
    "print(id(c)) "
   ]
  },
  {
   "cell_type": "code",
   "execution_count": 36,
   "metadata": {},
   "outputs": [
    {
     "name": "stdout",
     "output_type": "stream",
     "text": [
      "[1, 4, 9, 16, 25]\n",
      "[1, 4, 9, 16, 25]\n"
     ]
    }
   ],
   "source": [
    "numbers=(1,2,3,4,5)\n",
    "result=[]\n",
    "\n",
    "for i in numbers:\n",
    "    result.append(i**2)\n",
    "    \n",
    "print(result)\n",
    "\n",
    "# there is a better way of doing this\n",
    "result=[i**2 for i in numbers] # this is called as list comprehension\n",
    "# this can be done for dict and tuple as well\n",
    "print(result)"
   ]
  },
  {
   "cell_type": "code",
   "execution_count": 50,
   "metadata": {},
   "outputs": [
    {
     "name": "stdout",
     "output_type": "stream",
     "text": [
      "<class 'dict'>\n",
      "<class 'dict'>\n",
      "a 123\n",
      "b 456\n",
      "dict_keys(['a', 'b'])\n",
      "dict_values([123, 456])\n"
     ]
    }
   ],
   "source": [
    "# key value pair - dictionary\n",
    "a=dict({'a':123, 'b':456})\n",
    "print(type(a))\n",
    "\n",
    "b={'a':123, 'b':456}\n",
    "print(type(b))\n",
    "\n",
    "for key, value in a.items():\n",
    "    print(key, value)\n",
    "\n",
    "print(b.keys())\n",
    "print(b.values())"
   ]
  },
  {
   "cell_type": "code",
   "execution_count": 48,
   "metadata": {},
   "outputs": [
    {
     "name": "stdout",
     "output_type": "stream",
     "text": [
      "<class 'set'>\n",
      "{1, 2, 3, 4}\n"
     ]
    }
   ],
   "source": [
    "# set is bag of unique values\n",
    "a={1,2,3,4,1,2,3}\n",
    "print(type(a))\n",
    "print(a)\n",
    "\n",
    "# list - []\n",
    "# dict - {} - key-value pair\n",
    "# set - {}\n",
    "# tuple - ()"
   ]
  },
  {
   "cell_type": "code",
   "execution_count": 58,
   "metadata": {},
   "outputs": [
    {
     "name": "stdout",
     "output_type": "stream",
     "text": [
      "False\n",
      "[1, 2] <class 'list'>\n",
      "3 <class 'int'>\n",
      "4 <class 'int'>\n",
      "str <class 'str'>\n"
     ]
    }
   ],
   "source": [
    "a=(1,2,3)\n",
    "print(5 in a) # this we can use with other data structure as well\n",
    "\n",
    "a=([1,2],3,4,'str')\n",
    "for i in a:\n",
    "    print(i,type(i))\n",
    "    \n",
    "# in python inside a data structure we can have same as well as different data structure as well."
   ]
  },
  {
   "cell_type": "code",
   "execution_count": 61,
   "metadata": {},
   "outputs": [
    {
     "name": "stdout",
     "output_type": "stream",
     "text": [
      "True\n"
     ]
    }
   ],
   "source": [
    "a=((1,2),) # use with comma like this because python will treat ((1,2)) as (1,2)\n",
    "print((1,2) in a)"
   ]
  },
  {
   "cell_type": "code",
   "execution_count": 66,
   "metadata": {},
   "outputs": [
    {
     "name": "stdout",
     "output_type": "stream",
     "text": [
      "False\n",
      "True\n",
      "True\n",
      "True\n"
     ]
    }
   ],
   "source": [
    "record=('Amit',\"India\",True,123)\n",
    "colours=['blue','red','green']\n",
    "\n",
    "# in tuple, list and str order is important, because we can access based on index\n",
    "print(['blue','red','green']==['blue','green','red']) \n",
    "print(['blue','red','green']==['blue','red','green'])\n",
    "\n",
    "# in set and dict order is not important\n",
    "print({1,2,3,2,3,2}=={1,2,3})\n",
    "print({1,2,3}=={3,2,1}) "
   ]
  },
  {
   "cell_type": "code",
   "execution_count": 72,
   "metadata": {},
   "outputs": [
    {
     "name": "stdout",
     "output_type": "stream",
     "text": [
      "['yellow', 'red', 'green']\n",
      "['yellow', 'red', 'green', 'black', 'white', ['black', 'white']]\n"
     ]
    }
   ],
   "source": [
    "c=['blue','red','green']\n",
    "c[0]='yellow'\n",
    "print(c)\n",
    "\n",
    "c.extend(['black','white'])\n",
    "c.append(['black','white'])\n",
    "print(c)"
   ]
  },
  {
   "cell_type": "code",
   "execution_count": 70,
   "metadata": {},
   "outputs": [
    {
     "ename": "TypeError",
     "evalue": "'tuple' object does not support item assignment",
     "output_type": "error",
     "traceback": [
      "\u001b[1;31m---------------------------------------------------------------------------\u001b[0m",
      "\u001b[1;31mTypeError\u001b[0m                                 Traceback (most recent call last)",
      "Cell \u001b[1;32mIn[70], line 2\u001b[0m\n\u001b[0;32m      1\u001b[0m c\u001b[38;5;241m=\u001b[39m(\u001b[38;5;124m'\u001b[39m\u001b[38;5;124mblue\u001b[39m\u001b[38;5;124m'\u001b[39m,\u001b[38;5;124m'\u001b[39m\u001b[38;5;124mred\u001b[39m\u001b[38;5;124m'\u001b[39m,\u001b[38;5;124m'\u001b[39m\u001b[38;5;124mgreen\u001b[39m\u001b[38;5;124m'\u001b[39m)\n\u001b[1;32m----> 2\u001b[0m \u001b[43mc\u001b[49m\u001b[43m[\u001b[49m\u001b[38;5;241;43m0\u001b[39;49m\u001b[43m]\u001b[49m\u001b[38;5;241m=\u001b[39m\u001b[38;5;124m'\u001b[39m\u001b[38;5;124myellow\u001b[39m\u001b[38;5;124m'\u001b[39m \u001b[38;5;66;03m# this opertation is not possible in tuple\u001b[39;00m\n\u001b[0;32m      3\u001b[0m \u001b[38;5;28mprint\u001b[39m(c)\n",
      "\u001b[1;31mTypeError\u001b[0m: 'tuple' object does not support item assignment"
     ]
    }
   ],
   "source": [
    "c=('blue','red','green')\n",
    "c[0]='yellow' # this opertation is not possible in tuple\n",
    "print(c)"
   ]
  },
  {
   "cell_type": "code",
   "execution_count": 75,
   "metadata": {},
   "outputs": [
    {
     "name": "stdout",
     "output_type": "stream",
     "text": [
      "{'id': 123, 'price': 19.8, 'descirption': 'book', 'instock': True}\n",
      "19.8\n"
     ]
    }
   ],
   "source": [
    "item={\n",
    "    'id':123,\n",
    "    'price':19.80,\n",
    "    'descirption':'book',\n",
    "    'instock':True\n",
    "}\n",
    "\n",
    "print(item)\n",
    "# in dictionary we can access the value using key \n",
    "# in dictionary id is unique and value can be duplicate\n",
    "print(item['price'])"
   ]
  },
  {
   "cell_type": "code",
   "execution_count": null,
   "metadata": {},
   "outputs": [],
   "source": [
    "# count the occurance of a word, take a word and sentence of your choice \n",
    "sentence=\"Hi Students , hope you are enjoying the python session Python is great these session will be very helpful this popular among Students\"\n"
   ]
  }
 ],
 "metadata": {
  "kernelspec": {
   "display_name": "base",
   "language": "python",
   "name": "python3"
  },
  "language_info": {
   "codemirror_mode": {
    "name": "ipython",
    "version": 3
   },
   "file_extension": ".py",
   "mimetype": "text/x-python",
   "name": "python",
   "nbconvert_exporter": "python",
   "pygments_lexer": "ipython3",
   "version": "3.12.3"
  }
 },
 "nbformat": 4,
 "nbformat_minor": 2
}
